{
 "cells": [
  {
   "cell_type": "code",
   "execution_count": 1,
   "id": "17c03188",
   "metadata": {},
   "outputs": [],
   "source": [
    "import pandas as pd"
   ]
  },
  {
   "cell_type": "code",
   "execution_count": 2,
   "id": "44360879",
   "metadata": {},
   "outputs": [],
   "source": [
    "import pandas as pd\n",
    "df = pd.read_csv(\"radiomics_features_all_patients_TUMOR.csv\", delimiter='\\t')  # Try '\\t' for tab-delimited"
   ]
  },
  {
   "cell_type": "code",
   "execution_count": 3,
   "id": "199fe4f9",
   "metadata": {},
   "outputs": [
    {
     "name": "stdout",
     "output_type": "stream",
     "text": [
      "Number of features (columns): 1\n"
     ]
    }
   ],
   "source": [
    "num_features = df.shape[1]\n",
    "print(\"Number of features (columns):\", num_features)"
   ]
  },
  {
   "cell_type": "markdown",
   "id": "20aa3ca8",
   "metadata": {},
   "source": [
    "---"
   ]
  },
  {
   "cell_type": "markdown",
   "id": "ce2b738b",
   "metadata": {},
   "source": [
    "# Saved the csv with number of features"
   ]
  },
  {
   "cell_type": "code",
   "execution_count": 4,
   "id": "00c236f9",
   "metadata": {},
   "outputs": [
    {
     "name": "stdout",
     "output_type": "stream",
     "text": [
      "✅ Number of features: 1678\n",
      "🔤 First 10 feature names: ['PatientID', 'T1c_diagnostics_Versions_PyRadiomics', 'T1c_diagnostics_Versions_Numpy', 'T1c_diagnostics_Versions_SimpleITK', 'T1c_diagnostics_Versions_PyWavelet', 'T1c_diagnostics_Versions_Python', 'T1c_diagnostics_Configuration_Settings', 'T1c_diagnostics_Configuration_EnabledImageTypes', 'T1c_diagnostics_Image-original_Hash', 'T1c_diagnostics_Image-original_Dimensionality']\n"
     ]
    }
   ],
   "source": [
    "with open(\"radiomics_features_all_patients_TUMOR.csv\", \"r\", encoding=\"utf-8\", errors=\"ignore\") as f:\n",
    "    first_line = f.readline().strip()\n",
    "\n",
    "# Split column names by comma\n",
    "feature_names = first_line.split(',')\n",
    "\n",
    "print(\"✅ Number of features:\", len(feature_names))\n",
    "print(\"🔤 First 10 feature names:\", feature_names[:10])"
   ]
  },
  {
   "cell_type": "code",
   "execution_count": 5,
   "id": "f30f7197",
   "metadata": {},
   "outputs": [
    {
     "name": "stdout",
     "output_type": "stream",
     "text": [
      "✅ Saved feature names to 'radiomics_feature_names.csv' as a single header row.\n"
     ]
    }
   ],
   "source": [
    "# Step 1: Read the header line from the original file\n",
    "with open(\"radiomics_features_all_patients_TUMOR.csv\", \"r\", encoding=\"utf-8\", errors=\"ignore\") as f:\n",
    "    header_line = f.readline().strip()\n",
    "\n",
    "# Step 2: Split into feature names\n",
    "feature_names = header_line.split(',')\n",
    "\n",
    "# Step 3: Save as a single-row CSV\n",
    "import csv\n",
    "\n",
    "with open(\"radiomics_feature_names.csv\", \"w\", newline='', encoding=\"utf-8\") as f:\n",
    "    writer = csv.writer(f)\n",
    "    writer.writerow(feature_names)\n",
    "\n",
    "print(f\"✅ Saved feature names to 'radiomics_feature_names.csv' as a single header row.\")"
   ]
  },
  {
   "cell_type": "code",
   "execution_count": 6,
   "id": "e6379e30",
   "metadata": {},
   "outputs": [],
   "source": [
    "df = pd.read_csv('radiomics_feature_names.csv')"
   ]
  },
  {
   "cell_type": "code",
   "execution_count": 7,
   "id": "8c0c551a",
   "metadata": {},
   "outputs": [
    {
     "name": "stdout",
     "output_type": "stream",
     "text": [
      "<class 'pandas.core.frame.DataFrame'>\n",
      "RangeIndex: 0 entries\n",
      "Columns: 1678 entries, PatientID to MD_original_ngtdm_Strength\n",
      "dtypes: object(1678)\n",
      "memory usage: 132.0+ bytes\n"
     ]
    }
   ],
   "source": [
    "df.info()"
   ]
  },
  {
   "cell_type": "markdown",
   "id": "3edb2e84",
   "metadata": {},
   "source": [
    "---"
   ]
  },
  {
   "cell_type": "markdown",
   "id": "951206d0",
   "metadata": {},
   "source": [
    "# Saved the cleaned data along with data points"
   ]
  },
  {
   "cell_type": "code",
   "execution_count": 8,
   "id": "43d92a20",
   "metadata": {},
   "outputs": [
    {
     "name": "stdout",
     "output_type": "stream",
     "text": [
      "✅ Cleaned DataFrame shape: (0, 1678)\n",
      "📁 Saved cleaned dataset to 'radiomics_cleaned.csv'\n"
     ]
    }
   ],
   "source": [
    "import io\n",
    "\n",
    "# Step 1: Read all lines safely (ignoring encoding errors)\n",
    "with open(\"radiomics_features_all_patients_TUMOR.csv\", \"r\", encoding=\"utf-8\", errors=\"ignore\") as f:\n",
    "    lines = f.read().splitlines()\n",
    "\n",
    "# Step 2: Get the correct number of columns from the header\n",
    "header = lines[0].strip()\n",
    "expected_columns = header.count(',') + 1\n",
    "\n",
    "# Step 3: Keep only lines with the expected number of columns\n",
    "valid_lines = [line.strip() for line in lines if line.count(',') + 1 == expected_columns]\n",
    "\n",
    "# Step 4: Reconstruct a valid CSV string\n",
    "reconstructed_csv = \"\\n\".join(valid_lines)\n",
    "\n",
    "# Step 5: Load into DataFrame\n",
    "df = pd.read_csv(io.StringIO(reconstructed_csv))\n",
    "\n",
    "print(\"✅ Cleaned DataFrame shape:\", df.shape)\n",
    "\n",
    "# Step 6: Save to a new CSV file\n",
    "df.to_csv(\"radiomics_cleaned.csv\", index=False)\n",
    "\n",
    "print(\"📁 Saved cleaned dataset to 'radiomics_cleaned.csv'\")"
   ]
  },
  {
   "cell_type": "code",
   "execution_count": 9,
   "id": "6135c670",
   "metadata": {},
   "outputs": [],
   "source": [
    "df = pd.read_csv(\"radiomics_cleaned.csv\")"
   ]
  },
  {
   "cell_type": "code",
   "execution_count": 10,
   "id": "f98eb732",
   "metadata": {},
   "outputs": [
    {
     "name": "stdout",
     "output_type": "stream",
     "text": [
      "<class 'pandas.core.frame.DataFrame'>\n",
      "RangeIndex: 0 entries\n",
      "Columns: 1678 entries, PatientID to MD_original_ngtdm_Strength\n",
      "dtypes: object(1678)\n",
      "memory usage: 132.0+ bytes\n"
     ]
    }
   ],
   "source": [
    "df.info()"
   ]
  },
  {
   "cell_type": "code",
   "execution_count": 11,
   "id": "c3c79110",
   "metadata": {},
   "outputs": [
    {
     "data": {
      "text/html": [
       "<div>\n",
       "<style scoped>\n",
       "    .dataframe tbody tr th:only-of-type {\n",
       "        vertical-align: middle;\n",
       "    }\n",
       "\n",
       "    .dataframe tbody tr th {\n",
       "        vertical-align: top;\n",
       "    }\n",
       "\n",
       "    .dataframe thead th {\n",
       "        text-align: right;\n",
       "    }\n",
       "</style>\n",
       "<table border=\"1\" class=\"dataframe\">\n",
       "  <thead>\n",
       "    <tr style=\"text-align: right;\">\n",
       "      <th></th>\n",
       "      <th>PatientID</th>\n",
       "      <th>T1c_diagnostics_Versions_PyRadiomics</th>\n",
       "      <th>T1c_diagnostics_Versions_Numpy</th>\n",
       "      <th>T1c_diagnostics_Versions_SimpleITK</th>\n",
       "      <th>T1c_diagnostics_Versions_PyWavelet</th>\n",
       "      <th>T1c_diagnostics_Versions_Python</th>\n",
       "      <th>T1c_diagnostics_Configuration_Settings</th>\n",
       "      <th>T1c_diagnostics_Configuration_EnabledImageTypes</th>\n",
       "      <th>T1c_diagnostics_Image-original_Hash</th>\n",
       "      <th>T1c_diagnostics_Image-original_Dimensionality</th>\n",
       "      <th>...</th>\n",
       "      <th>MD_original_glszm_SmallAreaHighGrayLevelEmphasis</th>\n",
       "      <th>MD_original_glszm_SmallAreaLowGrayLevelEmphasis</th>\n",
       "      <th>MD_original_glszm_ZoneEntropy</th>\n",
       "      <th>MD_original_glszm_ZonePercentage</th>\n",
       "      <th>MD_original_glszm_ZoneVariance</th>\n",
       "      <th>MD_original_ngtdm_Busyness</th>\n",
       "      <th>MD_original_ngtdm_Coarseness</th>\n",
       "      <th>MD_original_ngtdm_Complexity</th>\n",
       "      <th>MD_original_ngtdm_Contrast</th>\n",
       "      <th>MD_original_ngtdm_Strength</th>\n",
       "    </tr>\n",
       "  </thead>\n",
       "  <tbody>\n",
       "  </tbody>\n",
       "</table>\n",
       "<p>0 rows × 1678 columns</p>\n",
       "</div>"
      ],
      "text/plain": [
       "Empty DataFrame\n",
       "Columns: [PatientID, T1c_diagnostics_Versions_PyRadiomics, T1c_diagnostics_Versions_Numpy, T1c_diagnostics_Versions_SimpleITK, T1c_diagnostics_Versions_PyWavelet, T1c_diagnostics_Versions_Python, T1c_diagnostics_Configuration_Settings, T1c_diagnostics_Configuration_EnabledImageTypes, T1c_diagnostics_Image-original_Hash, T1c_diagnostics_Image-original_Dimensionality, T1c_diagnostics_Image-original_Spacing, T1c_diagnostics_Image-original_Size, T1c_diagnostics_Image-original_Mean, T1c_diagnostics_Image-original_Minimum, T1c_diagnostics_Image-original_Maximum, T1c_diagnostics_Mask-original_Hash, T1c_diagnostics_Mask-original_Spacing, T1c_diagnostics_Mask-original_Size, T1c_diagnostics_Mask-original_BoundingBox, T1c_diagnostics_Mask-original_VoxelNum, T1c_diagnostics_Mask-original_VolumeNum, T1c_diagnostics_Mask-original_CenterOfMassIndex, T1c_diagnostics_Mask-original_CenterOfMass, T1c_original_shape_Elongation, T1c_original_shape_Flatness, T1c_original_shape_LeastAxisLength, T1c_original_shape_MajorAxisLength, T1c_original_shape_Maximum2DDiameterColumn, T1c_original_shape_Maximum2DDiameterRow, T1c_original_shape_Maximum2DDiameterSlice, T1c_original_shape_Maximum3DDiameter, T1c_original_shape_MeshVolume, T1c_original_shape_MinorAxisLength, T1c_original_shape_Sphericity, T1c_original_shape_SurfaceArea, T1c_original_shape_SurfaceVolumeRatio, T1c_original_shape_VoxelVolume, T1c_original_firstorder_10Percentile, T1c_original_firstorder_90Percentile, T1c_original_firstorder_Energy, T1c_original_firstorder_Entropy, T1c_original_firstorder_InterquartileRange, T1c_original_firstorder_Kurtosis, T1c_original_firstorder_Maximum, T1c_original_firstorder_MeanAbsoluteDeviation, T1c_original_firstorder_Mean, T1c_original_firstorder_Median, T1c_original_firstorder_Minimum, T1c_original_firstorder_Range, T1c_original_firstorder_RobustMeanAbsoluteDeviation, T1c_original_firstorder_RootMeanSquared, T1c_original_firstorder_Skewness, T1c_original_firstorder_TotalEnergy, T1c_original_firstorder_Uniformity, T1c_original_firstorder_Variance, T1c_original_glcm_Autocorrelation, T1c_original_glcm_ClusterProminence, T1c_original_glcm_ClusterShade, T1c_original_glcm_ClusterTendency, T1c_original_glcm_Contrast, T1c_original_glcm_Correlation, T1c_original_glcm_DifferenceAverage, T1c_original_glcm_DifferenceEntropy, T1c_original_glcm_DifferenceVariance, T1c_original_glcm_Id, T1c_original_glcm_Idm, T1c_original_glcm_Idmn, T1c_original_glcm_Idn, T1c_original_glcm_Imc1, T1c_original_glcm_Imc2, T1c_original_glcm_InverseVariance, T1c_original_glcm_JointAverage, T1c_original_glcm_JointEnergy, T1c_original_glcm_JointEntropy, T1c_original_glcm_MCC, T1c_original_glcm_MaximumProbability, T1c_original_glcm_SumAverage, T1c_original_glcm_SumEntropy, T1c_original_glcm_SumSquares, T1c_original_gldm_DependenceEntropy, T1c_original_gldm_DependenceNonUniformity, T1c_original_gldm_DependenceNonUniformityNormalized, T1c_original_gldm_DependenceVariance, T1c_original_gldm_GrayLevelNonUniformity, T1c_original_gldm_GrayLevelVariance, T1c_original_gldm_HighGrayLevelEmphasis, T1c_original_gldm_LargeDependenceEmphasis, T1c_original_gldm_LargeDependenceHighGrayLevelEmphasis, T1c_original_gldm_LargeDependenceLowGrayLevelEmphasis, T1c_original_gldm_LowGrayLevelEmphasis, T1c_original_gldm_SmallDependenceEmphasis, T1c_original_gldm_SmallDependenceHighGrayLevelEmphasis, T1c_original_gldm_SmallDependenceLowGrayLevelEmphasis, T1c_original_glrlm_GrayLevelNonUniformity, T1c_original_glrlm_GrayLevelNonUniformityNormalized, T1c_original_glrlm_GrayLevelVariance, T1c_original_glrlm_HighGrayLevelRunEmphasis, T1c_original_glrlm_LongRunEmphasis, T1c_original_glrlm_LongRunHighGrayLevelEmphasis, T1c_original_glrlm_LongRunLowGrayLevelEmphasis, ...]\n",
       "Index: []\n",
       "\n",
       "[0 rows x 1678 columns]"
      ]
     },
     "execution_count": 11,
     "metadata": {},
     "output_type": "execute_result"
    }
   ],
   "source": [
    "df.head()"
   ]
  },
  {
   "cell_type": "code",
   "execution_count": 5,
   "id": "d44444b4",
   "metadata": {},
   "outputs": [
    {
     "name": "stdout",
     "output_type": "stream",
     "text": [
      "✅ PatientIDs standardized and saved to radiomics_cleaned.csv\n"
     ]
    }
   ],
   "source": [
    "import pandas as pd\n",
    "\n",
    "def standardize_id(pid):\n",
    "    if isinstance(pid, str) and pid.startswith(\"UCSF-PDGM-\"):\n",
    "        try:\n",
    "            suffix = pid.split(\"-\")[-1]\n",
    "            standardized_suffix = suffix.zfill(4)  # pad with leading zeros to 4 digits\n",
    "            return f\"UCSF-PDGM-{standardized_suffix}\"\n",
    "        except:\n",
    "            return pid\n",
    "    return pid\n",
    "\n",
    "# Load the cleaned radiomics file\n",
    "df = pd.read_csv(\"radiomics_cleaned.csv\")\n",
    "\n",
    "# Apply standardization\n",
    "df[\"PatientID\"] = df[\"PatientID\"].apply(standardize_id)\n",
    "\n",
    "# Save back to the same file (override)\n",
    "df.to_csv(\"radiomics_cleaned.csv\", index=False)\n",
    "\n",
    "print(\"✅ PatientIDs standardized and saved to radiomics_cleaned.csv\")"
   ]
  },
  {
   "cell_type": "code",
   "execution_count": 6,
   "id": "b592ac72",
   "metadata": {},
   "outputs": [
    {
     "name": "stdout",
     "output_type": "stream",
     "text": [
      "✅ Standardized and saved UCSF-PDGM-metadata_v2.csv with corrected PatientIDs\n"
     ]
    }
   ],
   "source": [
    "def standardize_id(pid):\n",
    "    if isinstance(pid, str) and pid.startswith(\"UCSF-PDGM-\"):\n",
    "        try:\n",
    "            suffix = pid.split(\"-\")[-1]\n",
    "            standardized_suffix = suffix.zfill(4)  # pad to 4 digits\n",
    "            return f\"UCSF-PDGM-{standardized_suffix}\"\n",
    "        except:\n",
    "            return pid\n",
    "    return pid\n",
    "\n",
    "# Load the metadata file\n",
    "df_meta = pd.read_csv(\"UCSF-PDGM-metadata_v2.csv\")\n",
    "\n",
    "# Rename 'ID' to 'PatientID' for consistency and standardize\n",
    "df_meta = df_meta.rename(columns={\"ID\": \"PatientID\"})\n",
    "df_meta[\"PatientID\"] = df_meta[\"PatientID\"].apply(standardize_id)\n",
    "\n",
    "# Save it back (override the file)\n",
    "df_meta.to_csv(\"UCSF-PDGM-metadata_v2.csv\", index=False)\n",
    "\n",
    "print(\"✅ Standardized and saved UCSF-PDGM-metadata_v2.csv with corrected PatientIDs\")\n"
   ]
  },
  {
   "cell_type": "code",
   "execution_count": 7,
   "id": "66084d49",
   "metadata": {},
   "outputs": [
    {
     "name": "stdout",
     "output_type": "stream",
     "text": [
      "✅ Merged dataset shape: (76, 20569)\n",
      "📁 Saved merged file as 'radiomics_cleaned_merged.csv'\n"
     ]
    }
   ],
   "source": [
    "# Load the two datasets\n",
    "df_radiomics = pd.read_csv(\"radiomics_cleaned.csv\")\n",
    "df_metadata = pd.read_csv(\"UCSF-PDGM-metadata_v2.csv\")\n",
    "\n",
    "# Merge on the standardized PatientID\n",
    "df_merged = pd.merge(df_radiomics, df_metadata, on=\"PatientID\", how=\"inner\")\n",
    "\n",
    "# Save to a new CSV file\n",
    "df_merged.to_csv(\"radiomics_cleaned_merged.csv\", index=False)\n",
    "\n",
    "print(f\"✅ Merged dataset shape: {df_merged.shape}\")\n",
    "print(\"📁 Saved merged file as 'radiomics_cleaned_merged.csv'\")\n"
   ]
  },
  {
   "cell_type": "code",
   "execution_count": null,
   "id": "4095f73b",
   "metadata": {},
   "outputs": [],
   "source": []
  }
 ],
 "metadata": {
  "kernelspec": {
   "display_name": "Python 3",
   "language": "python",
   "name": "python3"
  },
  "language_info": {
   "codemirror_mode": {
    "name": "ipython",
    "version": 3
   },
   "file_extension": ".py",
   "mimetype": "text/x-python",
   "name": "python",
   "nbconvert_exporter": "python",
   "pygments_lexer": "ipython3",
   "version": "3.12.5"
  }
 },
 "nbformat": 4,
 "nbformat_minor": 5
}
