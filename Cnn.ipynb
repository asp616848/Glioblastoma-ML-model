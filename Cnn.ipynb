{
 "cells": [
  {
   "cell_type": "code",
   "execution_count": null,
   "id": "a34cbf82",
   "metadata": {},
   "outputs": [
    {
     "ename": "ModuleNotFoundError",
     "evalue": "No module named 'pyradiomics'",
     "output_type": "error",
     "traceback": [
      "\u001b[1;31m---------------------------------------------------------------------------\u001b[0m",
      "\u001b[1;31mModuleNotFoundError\u001b[0m                       Traceback (most recent call last)",
      "Cell \u001b[1;32mIn[7], line 4\u001b[0m\n\u001b[0;32m      2\u001b[0m \u001b[38;5;28;01mimport\u001b[39;00m\u001b[38;5;250m \u001b[39m\u001b[38;5;21;01mnibabel\u001b[39;00m\u001b[38;5;250m \u001b[39m\u001b[38;5;28;01mas\u001b[39;00m\u001b[38;5;250m \u001b[39m\u001b[38;5;21;01mnib\u001b[39;00m\n\u001b[0;32m      3\u001b[0m \u001b[38;5;28;01mimport\u001b[39;00m\u001b[38;5;250m \u001b[39m\u001b[38;5;21;01mpandas\u001b[39;00m\u001b[38;5;250m \u001b[39m\u001b[38;5;28;01mas\u001b[39;00m\u001b[38;5;250m \u001b[39m\u001b[38;5;21;01mpd\u001b[39;00m\n\u001b[1;32m----> 4\u001b[0m \u001b[38;5;28;01mfrom\u001b[39;00m\u001b[38;5;250m \u001b[39m\u001b[38;5;21;01mpyradiomics\u001b[39;00m\u001b[38;5;250m \u001b[39m\u001b[38;5;28;01mimport\u001b[39;00m featureextractor\n\u001b[0;32m      5\u001b[0m \u001b[38;5;28;01mimport\u001b[39;00m\u001b[38;5;250m \u001b[39m\u001b[38;5;21;01mlogging\u001b[39;00m\n\u001b[0;32m      7\u001b[0m \u001b[38;5;66;03m# Optional: suppress verbose logging\u001b[39;00m\n",
      "\u001b[1;31mModuleNotFoundError\u001b[0m: No module named 'pyradiomics'"
     ]
    }
   ],
   "source": [
    "import os\n",
    "import nibabel as nib\n",
    "import pandas as pd\n",
    "from pyradiomics import featureextractor\n",
    "import logging\n",
    "\n",
    "# Optional: suppress verbose logging\n",
    "logging.getLogger('radiomics').setLevel(logging.ERROR)\n",
    "\n",
    "# Path to your segmented tumor masks\n",
    "base_dir = r\"C:\\PKG - UPENN-GBM-NIfTI\\UPENN-GBM\\NIfTI-files\\automated_segm\"\n",
    "output_csv = \"tumor_features.csv\"\n",
    "\n",
    "# Configure feature extractor\n",
    "extractor = featureextractor.RadiomicsFeatureExtractor()\n",
    "extractor.enableAllFeatures()\n",
    "\n",
    "data = []\n",
    "\n",
    "for file in os.listdir(base_dir):\n",
    "    if file.endswith('.nii.gz'):\n",
    "        patient_id = file.split('_')[2] if '_' in file else file.split('.')[0]\n",
    "        path = os.path.join(base_dir, file)\n",
    "\n",
    "        # Since it's a binary tumor mask, use the same file as both image and mask\n",
    "        try:\n",
    "            result = extractor.execute(imageFilepath=path, maskFilepath=path)\n",
    "            filtered_result = {k: v for k, v in result.items() if \"diagnostics\" not in k}\n",
    "            filtered_result['PatientID'] = patient_id\n",
    "            data.append(filtered_result)\n",
    "        except Exception as e:\n",
    "            print(f\"Failed for {file}: {e}\")\n",
    "\n",
    "# Create DataFrame and save to CSV\n",
    "df = pd.DataFrame(data)\n",
    "df.set_index(\"PatientID\", inplace=True)\n",
    "df.to_csv(output_csv)\n",
    "\n",
    "print(f\"Saved {len(df)} feature vectors to {output_csv}\")\n"
   ]
  }
 ],
 "metadata": {
  "kernelspec": {
   "display_name": "Python 3",
   "language": "python",
   "name": "python3"
  },
  "language_info": {
   "codemirror_mode": {
    "name": "ipython",
    "version": 3
   },
   "file_extension": ".py",
   "mimetype": "text/x-python",
   "name": "python",
   "nbconvert_exporter": "python",
   "pygments_lexer": "ipython3",
   "version": "3.10.0"
  }
 },
 "nbformat": 4,
 "nbformat_minor": 5
}
