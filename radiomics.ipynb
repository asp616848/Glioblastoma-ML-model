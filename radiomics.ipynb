{
 "cells": [
  {
   "cell_type": "code",
   "execution_count": 1,
   "id": "6b679df8",
   "metadata": {},
   "outputs": [
    {
     "data": {
      "text/plain": [
       "['UCSF-PDGM-0004_DTI_eddy_L3.nii.gz',\n",
       " 'UCSF-PDGM-0004_DTI_eddy_L1.nii.gz',\n",
       " 'UCSF-PDGM-0004_T1c_bias.nii.gz',\n",
       " 'UCSF-PDGM-0004_FLAIR_bias.nii.gz',\n",
       " 'UCSF-PDGM-0004_DTI_eddy_MD.nii.gz',\n",
       " 'UCSF-PDGM-0004_brain_parenchyma_segmentation.nii.gz',\n",
       " 'UCSF-PDGM-0004_T2_bias.nii.gz',\n",
       " 'UCSF-PDGM-0004_T2.nii.gz',\n",
       " 'UCSF-PDGM-0004_DTI_eddy_noreg.nii.gz',\n",
       " 'UCSF-PDGM-0004_T1c.nii.gz',\n",
       " 'UCSF-PDGM-0004_DTI_eddy_FA.nii.gz',\n",
       " 'UCSF-PDGM-0004_T1_bias.nii.gz',\n",
       " 'UCSF-PDGM-0004_brain_segmentation.nii.gz',\n",
       " 'UCSF-PDGM-0004_DWI_bias.nii.gz',\n",
       " 'UCSF-PDGM-0004_FLAIR.nii.gz',\n",
       " 'UCSF-PDGM-0004_DTI_eddy_L2.nii.gz',\n",
       " 'UCSF-PDGM-0004_ASL.nii.gz',\n",
       " 'UCSF-PDGM-0004_tumor_segmentation.nii.gz',\n",
       " 'UCSF-PDGM-0004_ADC.nii.gz',\n",
       " 'UCSF-PDGM-0004_DWI.nii.gz',\n",
       " 'UCSF-PDGM-0004_SWI.nii.gz',\n",
       " 'UCSF-PDGM-0004_T1.nii.gz',\n",
       " 'UCSF-PDGM-0004_SWI_bias.nii.gz']"
      ]
     },
     "execution_count": 1,
     "metadata": {},
     "output_type": "execute_result"
    }
   ],
   "source": [
    "import os\n",
    "os.listdir(\"/home/abhi/Downloads/PKG - UCSF-PDGM-v3-20230111/UCSF-PDGM-v3/UCSF-PDGM-0004_nifti\")"
   ]
  },
  {
   "cell_type": "code",
   "execution_count": 2,
   "id": "7a6d023f",
   "metadata": {},
   "outputs": [
    {
     "ename": "ModuleNotFoundError",
     "evalue": "No module named 'pandas'",
     "output_type": "error",
     "traceback": [
      "\u001b[0;31m---------------------------------------------------------------------------\u001b[0m",
      "\u001b[0;31mModuleNotFoundError\u001b[0m                       Traceback (most recent call last)",
      "Cell \u001b[0;32mIn[2], line 2\u001b[0m\n\u001b[1;32m      1\u001b[0m \u001b[38;5;28;01mimport\u001b[39;00m\u001b[38;5;250m \u001b[39m\u001b[38;5;21;01mos\u001b[39;00m\n\u001b[0;32m----> 2\u001b[0m \u001b[38;5;28;01mimport\u001b[39;00m\u001b[38;5;250m \u001b[39m\u001b[38;5;21;01mpandas\u001b[39;00m\u001b[38;5;250m \u001b[39m\u001b[38;5;28;01mas\u001b[39;00m\u001b[38;5;250m \u001b[39m\u001b[38;5;21;01mpd\u001b[39;00m\n\u001b[1;32m      3\u001b[0m \u001b[38;5;28;01mimport\u001b[39;00m\u001b[38;5;250m \u001b[39m\u001b[38;5;21;01mnibabel\u001b[39;00m\u001b[38;5;250m \u001b[39m\u001b[38;5;28;01mas\u001b[39;00m\u001b[38;5;250m \u001b[39m\u001b[38;5;21;01mnib\u001b[39;00m\n\u001b[1;32m      4\u001b[0m \u001b[38;5;28;01mfrom\u001b[39;00m\u001b[38;5;250m \u001b[39m\u001b[38;5;21;01mradiomics\u001b[39;00m\u001b[38;5;250m \u001b[39m\u001b[38;5;28;01mimport\u001b[39;00m featureextractor\n",
      "\u001b[0;31mModuleNotFoundError\u001b[0m: No module named 'pandas'"
     ]
    }
   ],
   "source": [
    "import os\n",
    "import pandas as pd\n",
    "import nibabel as nib\n",
    "from radiomics import featureextractor\n",
    "\n",
    "# Path setup\n",
    "data_dir = \"/home/abhi/Downloads/PKG - UCSF-PDGM-v3-20230111/UCSF-PDGM-v3/UCSF-PDGM-0004_nifti\"\n",
    "mask_path = os.path.join(data_dir, \"UCSF-PDGM-0004_tumor_segmentation.nii.gz\")\n",
    "\n",
    "# Initialize extractor with default settings\n",
    "extractor = featureextractor.RadiomicsFeatureExtractor()\n",
    "\n",
    "# Optional: Customize settings\n",
    "# extractor.enableAllFeatures()\n",
    "# extractor.enableAllImageTypes()\n",
    "\n",
    "# Store features for each modality\n",
    "all_features = {}\n",
    "\n",
    "for fname in os.listdir(data_dir):\n",
    "    if fname.endswith(\".nii.gz\") and \"segmentation\" not in fname and \"bias\" not in fname:\n",
    "        image_path = os.path.join(data_dir, fname)\n",
    "        print(f\"Processing: {fname}\")\n",
    "\n",
    "        try:\n",
    "            result = extractor.execute(image_path, mask_path)\n",
    "            all_features[fname] = result\n",
    "        except Exception as e:\n",
    "            print(f\"Failed to process {fname}: {e}\")\n",
    "\n",
    "# Convert to DataFrame\n",
    "df = pd.DataFrame(all_features).T  # Transpose to have images as rows\n",
    "df.to_csv(\"radiomics_features_UCSF-PDGM-0004.csv\", index_label=\"Image\")\n",
    "\n",
    "print(\"Feature extraction complete and saved to CSV.\")\n"
   ]
  }
 ],
 "metadata": {
  "kernelspec": {
   "display_name": ".venv",
   "language": "python",
   "name": "python3"
  },
  "language_info": {
   "codemirror_mode": {
    "name": "ipython",
    "version": 3
   },
   "file_extension": ".py",
   "mimetype": "text/x-python",
   "name": "python",
   "nbconvert_exporter": "python",
   "pygments_lexer": "ipython3",
   "version": "3.9.22"
  }
 },
 "nbformat": 4,
 "nbformat_minor": 5
}
